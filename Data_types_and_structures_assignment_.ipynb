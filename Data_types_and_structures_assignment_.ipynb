{
  "nbformat": 4,
  "nbformat_minor": 0,
  "metadata": {
    "colab": {
      "provenance": []
    },
    "kernelspec": {
      "name": "python3",
      "display_name": "Python 3"
    },
    "language_info": {
      "name": "python"
    }
  },
  "cells": [
    {
      "cell_type": "markdown",
      "source": [
        "                      Data Types and Structures theory\n",
        "\n",
        "\n",
        "1.What are data structures, and why are they important ?\n",
        " - Data structures are specially formatted ways to store and organize data in such a way that facilitates access as well as modification efficiently. Data can be structured so that it becomes easier to operate on, and every structure has its strength in carrying out specific operations.\n",
        " * Why Are Data Structures Important?\n",
        " 1.Efficiency 2.Optimized Performance 3. Problem-Solving\n",
        "\n",
        "2. Explain the difference between mutable and immutable data types with examples.\n",
        "  - The difference between mutable and immutable data types lies in whether the data contained in an object can be changed after it is created .\n",
        "  . Mutable Data Types\n",
        "  -Definition: A mutable data type allows its values or elements to be modified after the object is created. This means you can change, add, or remove elements in the object without creating a new instance.\n",
        "  . Key Point: You can alter the content of the object.\n",
        "   . Lists: In Python, a list is mutable because you can modify its elements or add/remove items after the list has been created.\n",
        "   .Dictionaries: A dictionary allows for modification of its key-value pair\n",
        "  . Sets: Sets are mutable, so you can add or remove elements.\n",
        "\n",
        " .  Immutable Data Types\n",
        "  - Definition: An immutable data type does not allow its value or elements to be modified after it is created. Any operation that tries to modify the object will instead create a new object.\n",
        "  . Key Point: Once created, the object cannot be changed\n",
        "   . Strings: Strings in Python are immutable. You cannot change an individual character of a string after it's created.\n",
        "   . Tuples: A tuple is an immutable collection, which means you cannot modify, add, or remove elements once it's created.\n",
        "\n",
        " 3. What are the main differences between lists and tuples in Python ?\n",
        "  - In Python, lists and tuples are both used to store collections of elements, but they have key differences that affect their usage. Here are the main differences between lists and tuples:\n",
        "\n",
        "   . Mutability\n",
        "   .Lists are mutable, meaning you can change their content (add, remove, or modify elements) after the list is created.\n",
        "   . Tuples are immutable, meaning once a tuple is created, its content cannot be changed. You can't add, remove, or modify elements in a tuple.\n",
        "   . Syntax\n",
        "   .Lists are defined using square brackets [].\n",
        "   .Tuples are defined using parentheses ().\n",
        "  4. Describe how dictionaries store data .\n",
        "   - Dictionaries in Python are a type of associative container that store data in key-value pairs. A key is mapped to a value, allowing for efficient lookups, additions, and deletions of data. Here's a detailed explanation of how dictionaries store and manage data:\n",
        "   . Structure\n",
        "    - A Python dictionary consists of a collection of key-value pairs, where\n",
        "    . Key: A unique identifier that allows you to access the associated value.\n",
        "    . Value: The data or information that is associated with the key.\n",
        "\n",
        "  5. Why might you use a set instead of a list in Python?\n",
        "   - Using a set instead of a list in Python can be advantageous in certain situations where the unique properties of sets provide better performance or functionality. Here are the key reasons why you might choose to use a set over a list:\n",
        "   . Uniqueness of Elements\n",
        "    . Sets automatically enforce uniqueness, meaning they cannot contain duplicate elements. If you try to add a duplicate element to a set, it will not be included. This is useful when you need to store only distinct items.\n",
        "    . Lists, on the other hand, allow duplicate elements, so if you want to ensure that a collection contains only unique elements, you would need to manually check for duplicates.\n",
        "\n",
        " 6. What is a string in Python, and how is it different from a list?\n",
        "  - In Python, both strings and lists are sequences of elements, but they have key differences in terms of functionality, behavior, and use cases.\n",
        "\n",
        "  .  What is a String in Python?\n",
        "   -A string in Python is a sequence of characters, typically used to represent text. Strings are enclosed in either single quotes (') or double quotes (\"), and they are immutable, meaning that once a string is created, its contents cannot be changed.\n",
        "\n",
        " 7.How do tuples ensure data integrity in Python ?\n",
        "  - In Python, tuples are a type of immutable data structure, meaning once they are created, their contents cannot be altered. This immutability provides a level of data integrity, ensuring that the data stored in a tuple cannot be modified accidentally or intentionally. Here's how tuples help ensure data integrity:\n",
        "  . Immutability\n",
        "   . The most important characteristic of a tuple that ensures data integrity is its immutability:\n",
        "   . Once a tuple is created, its elements cannot be modified, added, or removed.\n",
        "   .This guarantees that the data remains constant throughout its lifetime, making it more reliable for use in scenarios where data integrity is crucial.\n",
        "\n",
        " 8. What is a hash table, and how does it relate to dictionaries in Python?\n",
        " - A hash table is a data structure that allows for efficient data retrieval and storage by using a technique called hashing. In simple terms, a hash table stores data in an array-like format, where each piece of data is associated with a key and a value. The key is hashed to compute an index in an array, where the corresponding value is stored. Hash tables are commonly used in many programming languages for quick lookups, inserts, and deletions.\n",
        "\n",
        "* Key Concepts of a Hash Table\n",
        ". Hash Function:\n",
        "  . The hash function takes a key and converts it into an index (often a numerical value) in an array or table. This index determines where the corresponding value should be stored.\n",
        ".Keys and Values:\n",
        "  . In a hash table, data is stored in key-value pairs.\n",
        "  . The key is used to identify and access the value.\n",
        "\n",
        "9. Can lists contain different data types in Python.\n",
        " - Yes, lists in Python can contain different data types. A single list can store elements of various types, such as integers, strings, floats, boolean values, or even other lists or objects. This flexibility makes Python lists versatile data structures for working with heterogeneous collections of data.\n",
        "\n",
        "10. Explain why strings are immutable in Python.\n",
        " - In Python, strings are immutable—this means that once a string is created, its contents cannot be changed. The immutability of strings is an important feature in Python, and it brings several benefits and reasons for design decisions.\n",
        "\n",
        "11. What advantages do dictionaries offer over lists for certain tasks?\n",
        " - Dictionaries in Python offer several advantages over lists for certain tasks due to their underlying data structure and characteristics. While lists are great for ordered collections of items, dictionaries excel in situations where fast, efficient lookups, key-based access, and data relationships are needed.\n",
        " . Here are the key advantages of dictionaries over lists\n",
        " . Faster Lookups (O(1) Time Complexity)\n",
        "  . Dictionaries are implemented using a hash table, which means accessing a value by its key is an average O(1) operation. In contrast, lists require an O(n) lookup time when searching for an element by value, since it involves scanning through the list to find the item.\n",
        "\n",
        " . Key-Value Pair Storage\n",
        "  . Dictionaries allow you to store data as key-value pairs, making them ideal for representing relationships between pieces of data. This is especially useful when you need to map one piece of data (the key) to another (the value), such as looking up a person's name based on their ID, storing settings based on keys, or associating products with prices.\n",
        "  . If you need to search for items repeatedly or look up values based on some key, dictionaries provide significant performance benefits over lists.\n",
        "\n",
        "12. Describe a scenario where using a tuple would be preferable over a list.\n",
        " - Using a tuple over a list is preferable in scenarios where immutability, data integrity, and performance are critical. Tuples are immutable, meaning their values cannot be changed after creation. This provides distinct advantages in specific situations. Here's an example scenario where a tuple would be the preferred choice:\n",
        " . Scenario: Storing Coordinates (Latitude, Longitude)\n",
        "  . Imagine you are developing an application that works with geographic data, such as mapping or location-based services. You need to store coordinates (latitude and longitude) for a series of locations.\n",
        "\n",
        "13. How do sets handle duplicate values in Python?\n",
        " - In Python, sets automatically remove duplicates. A set is an unordered collection of unique elements, meaning it does not allow duplicate values. When you attempt to add a duplicate value to a set, it will not be added, and the set will remain unchanged.\n",
        " . Key Points about Sets and Duplicates:\n",
        "  . Uniqueness: A set only stores unique elements. If you try to add an element that is already in the set, the set will ignore it.\n",
        "  . Unordered: Sets do not maintain the order of elements, meaning the elements in a set do not have an index and are not stored in any specific order.\n",
        "14. How does the “in” keyword work differently for lists and dictionaries?\n",
        "  - The in keyword in Python is used to check for membership—whether a value exists in a collection like a list or dictionary. However, it works differently for lists and dictionaries because of the underlying data structures and how membership is determined.\n",
        "  1. Using in with Lists:\n",
        "   . In a list, the in keyword checks if a specific value exists in the list. It performs a sequential search through the list to find the value.\n",
        "   . The operation is O(n) in time complexity, where n is the number of elements in the list, because Python has to check each element until it finds a match (or reaches the end).\n",
        "\n",
        "15.Can you modify the elements of a tuple? Explain why or why not.\n",
        " - No, you cannot modify the elements of a tuple in Python because tuples are immutable. Once a tuple is created, its elements cannot be changed, added, or removed. This immutability ensures data integrity and makes tuples suitable for use as dictionary keys or set elements, as their contents cannot change after creation. If you need a mutable collection, you should use a list instead of a tuple.\n",
        "\n",
        "16.  What is a nested dictionary, and give an example of its use case ?\n",
        " - A nested dictionary in Python is a dictionary where one or more of its values are themselves dictionaries. This allows you to represent complex hierarchical data structures within a single dictionary.\n",
        " . Structure:\n",
        "  . A nested dictionary contains key-value pairs, and the value associated with a key can be another dictionary. This creates a layered structure where dictionaries can be nested to any depth.\n",
        " . Use Case:\n",
        "  . A nested dictionary is useful when you need to represent data with multiple levels of detail, where each key can have its own associated dictionary, and that dictionary can store additional key-value pairs.\n",
        "\n",
        "17. Describe the time complexity of accessing elements in a dictionary?\n",
        " - The time complexity of accessing elements in a dictionary in Python is O(1) on average, meaning it is constant time.\n",
        " . Explanation:\n",
        "  . Python dictionaries are implemented using a hash table under the hood. When you access an element using a key, the dictionary computes the hash of the key and directly maps it to the corresponding value in the hash table. This allows for very efficient lookups.\n",
        "\n",
        "18. In what situations are lists preferred over dictionaries.\n",
        " - Lists are preferred over dictionaries in the following situations:\n",
        "  . When Order Matters:\n",
        "    .Lists maintain the order of elements, meaning that elements are stored in a specific sequence and can be accessed by their index. This makes lists ideal when the order of the data is important, such as:\n",
        "      . Storing a collection of items where the order of insertion is important (e.g., a list of tasks, items in a shopping cart).\n",
        "      . Iterating through the elements in a predictable sequence.\n",
        "19. Why are dictionaries considered unordered, and how does that affect data\n",
        "   retrieval\n",
        "    - Dictionaries in Python are considered unordered because they do not maintain the insertion order of elements when storing them internally. However, starting from Python 3.7, dictionaries do preserve the order of insertion when iterating over them, but they still fundamentally do not have an inherent \"order\" like a list (where elements are indexed and have a predictable position).\n",
        "    \n",
        "  Why Are Dictionaries Considered Unordered?\n",
        "   1.Hashing Mechanism:\n",
        "    .Dictionaries use a hash table to store key-value pairs. When you add an item to a dictionary, the key is hashed using a hash function, and this hash determines where the value is stored in memory. This process is designed for efficient lookup (O(1) average time complexity) rather than maintaining any specific order.\n",
        "    .As a result, the positions of elements in memory are not based on the order in which they were added but are instead determined by the hash values of the keys. This is what makes dictionaries unordered at their core.\n",
        "20. Explain the difference between a list and a dictionary in terms of data\n",
        "   retrieval.\n",
        "   - The key difference between a list and a dictionary in terms of data retrieval lies in how data is stored and accessed:\n",
        "  . Data Access Mechanism:\n",
        "   . List\n",
        "    . A list is an ordered collection of elements, where each element is accessed using a zero-based index.\n",
        "    .Data retrieval in a list is done by referencing the index position of the element.   \n",
        "\n",
        "                             Practical Questions\n",
        "  \n",
        "\n",
        "\n",
        "    \n",
        "\n",
        "\n",
        "\n",
        "                             \n",
        "\n",
        "\n",
        "\n",
        "\n",
        "\n",
        "\n",
        "\n",
        "\n",
        "\n",
        "\n",
        "\n",
        "\n",
        "\n",
        "\n",
        "\n",
        "\n",
        "\n",
        "\n",
        "\n",
        "\n",
        "\n",
        "\n",
        "\n",
        "\n",
        "\n",
        "\n",
        "\n",
        "\n",
        "\n",
        "\n",
        "\n",
        "\n",
        "\n",
        "\n",
        "\n",
        "\n",
        "\n",
        "\n",
        "\n",
        "\n",
        "\n",
        "  \n",
        "\n",
        "\n",
        "\n",
        "\n",
        "\n",
        "\n",
        "\n",
        "\n",
        "\n",
        "\n",
        "\n",
        "\n",
        "\n",
        "\n",
        "\n",
        "\n",
        "\n",
        "\n",
        "\n",
        "\n",
        "\n",
        "\n",
        "\n",
        "\n",
        "\n",
        "\n",
        "\n",
        "\n",
        "\n",
        "\n",
        "\n",
        "\n",
        "\n",
        "\n",
        "\n",
        "\n",
        "\n",
        "\n",
        "\n",
        "\n",
        "\n",
        "\n",
        "\n",
        "\n",
        "\n",
        "\n",
        "\n",
        "\n",
        "\n",
        "\n",
        "\n",
        "\n",
        "\n",
        "\n",
        "\n",
        "\n",
        "\n",
        "\n"
      ],
      "metadata": {
        "id": "7DeEF3vtI7bt"
      }
    },
    {
      "cell_type": "code",
      "source": [],
      "metadata": {
        "id": "TX8jEtWb-XeV"
      },
      "execution_count": null,
      "outputs": []
    },
    {
      "cell_type": "code",
      "source": [],
      "metadata": {
        "id": "j-N3H52ryUg4"
      },
      "execution_count": null,
      "outputs": []
    },
    {
      "cell_type": "code",
      "source": [],
      "metadata": {
        "id": "_9KjxWmpyMsG"
      },
      "execution_count": null,
      "outputs": []
    },
    {
      "cell_type": "markdown",
      "source": [],
      "metadata": {
        "id": "InsTzeF9yILz"
      }
    },
    {
      "cell_type": "code",
      "source": [],
      "metadata": {
        "id": "gjT9eyIcx_CJ"
      },
      "execution_count": null,
      "outputs": []
    },
    {
      "cell_type": "markdown",
      "source": [
        "  1. Write a code to create a string with your name and print it.\n"
      ],
      "metadata": {
        "id": "O2JWa3DEyQvl"
      }
    },
    {
      "cell_type": "markdown",
      "source": [],
      "metadata": {
        "id": "TmTeQJaMybNt"
      }
    },
    {
      "cell_type": "code",
      "source": [
        "name= (\"Sakir\")\n",
        "print (name)"
      ],
      "metadata": {
        "colab": {
          "base_uri": "https://localhost:8080/"
        },
        "id": "QYgSN8iowEbn",
        "outputId": "6117a21c-f4ef-4556-c5e2-97a2094bb427"
      },
      "execution_count": 3,
      "outputs": [
        {
          "output_type": "stream",
          "name": "stdout",
          "text": [
            "Sakir\n"
          ]
        }
      ]
    },
    {
      "cell_type": "markdown",
      "source": [
        "  2. Write a code to find the length of the string \"Hello World\"\n",
        "[link text](https://)"
      ],
      "metadata": {
        "id": "Invcgy4xydtn"
      }
    },
    {
      "cell_type": "markdown",
      "source": [
        "      "
      ],
      "metadata": {
        "id": "M3bVqTV_x3Ou"
      }
    },
    {
      "cell_type": "code",
      "source": [
        "# Define the string\n",
        "my_string = \"Hello World\"\n",
        "\n",
        "# Find the length of the string\n",
        "length = len(my_string)\n",
        "\n",
        "# Print the length\n",
        "print(length)\n"
      ],
      "metadata": {
        "colab": {
          "base_uri": "https://localhost:8080/"
        },
        "id": "bCVdf0bVv62y",
        "outputId": "bc5df2ab-71af-471c-a4e0-f46ed144799b"
      },
      "execution_count": 4,
      "outputs": [
        {
          "output_type": "stream",
          "name": "stdout",
          "text": [
            "11\n"
          ]
        }
      ]
    },
    {
      "cell_type": "markdown",
      "source": [
        " 3. Write a code to slice the first 3 characters from the string \"Python Programming\"\n"
      ],
      "metadata": {
        "id": "8cjVD_X411ur"
      }
    },
    {
      "cell_type": "markdown",
      "source": [],
      "metadata": {
        "id": "_pW0338NyY3D"
      }
    },
    {
      "cell_type": "markdown",
      "source": [],
      "metadata": {
        "id": "rCi4Qzn5x17B"
      }
    },
    {
      "cell_type": "code",
      "source": [
        "# Define the string\n",
        "my_string = \"Python Programming\"\n",
        "\n",
        "# Slice the first 3 characters\n",
        "sliced_string = my_string[:3]\n",
        "\n",
        "# Print the sliced string\n",
        "print(sliced_string)\n"
      ],
      "metadata": {
        "colab": {
          "base_uri": "https://localhost:8080/"
        },
        "id": "ATpBQktwvQ9o",
        "outputId": "ffd92465-75b3-4a73-fee4-3072debf5cd9"
      },
      "execution_count": 5,
      "outputs": [
        {
          "output_type": "stream",
          "name": "stdout",
          "text": [
            "Pyt\n"
          ]
        }
      ]
    },
    {
      "cell_type": "markdown",
      "source": [
        " 4. Write a code to convert the string \"hello\" to uppercase\n"
      ],
      "metadata": {
        "id": "ZXlTCS-o2NeO"
      }
    },
    {
      "cell_type": "code",
      "execution_count": 6,
      "metadata": {
        "colab": {
          "base_uri": "https://localhost:8080/"
        },
        "id": "AImYpPxLFt0t",
        "outputId": "ea380a6c-4a5a-4147-b2d0-d6303bf36e27"
      },
      "outputs": [
        {
          "output_type": "stream",
          "name": "stdout",
          "text": [
            "HELLO\n"
          ]
        }
      ],
      "source": [
        "# Define the string\n",
        "my_string = \"hello\"\n",
        "\n",
        "# Convert the string to uppercase\n",
        "uppercase_string = my_string.upper()\n",
        "\n",
        "# Print the uppercase string\n",
        "print(uppercase_string)\n"
      ]
    },
    {
      "cell_type": "markdown",
      "source": [
        "  5. Write a code to replace the word \"apple\" with \"orange\" in the string \"I like apple\""
      ],
      "metadata": {
        "id": "Ax050AAb2kVG"
      }
    },
    {
      "cell_type": "markdown",
      "source": [],
      "metadata": {
        "id": "8Wzyzp5zI4_n"
      }
    },
    {
      "cell_type": "code",
      "source": [
        "# Define the string\n",
        "my_string = \"I like apple\"\n",
        "\n",
        "# Replace \"apple\" with \"orange\"\n",
        "new_string = my_string.replace(\"apple\", \"orange\")\n",
        "\n",
        "# Print the new string\n",
        "print(new_string)\n"
      ],
      "metadata": {
        "colab": {
          "base_uri": "https://localhost:8080/"
        },
        "id": "ObHfBwiXGlc0",
        "outputId": "4e0b1d1c-7588-4806-dfe7-05f86cc76915"
      },
      "execution_count": 7,
      "outputs": [
        {
          "output_type": "stream",
          "name": "stdout",
          "text": [
            "I like orange\n"
          ]
        }
      ]
    },
    {
      "cell_type": "markdown",
      "source": [
        " 6. Write a code to create a list with numbers 1 to 5 and print it\n"
      ],
      "metadata": {
        "id": "I1i3fUpp3Brt"
      }
    },
    {
      "cell_type": "code",
      "source": [
        "# Create a list with numbers 1 to 5\n",
        "my_list = [1, 2, 3, 4, 5]\n",
        "\n",
        "# Print the list\n",
        "print(my_list)\n"
      ],
      "metadata": {
        "colab": {
          "base_uri": "https://localhost:8080/"
        },
        "id": "jl4jeMeU3Sc3",
        "outputId": "df4a2977-5489-4655-e8af-31c646b8552f"
      },
      "execution_count": 8,
      "outputs": [
        {
          "output_type": "stream",
          "name": "stdout",
          "text": [
            "[1, 2, 3, 4, 5]\n"
          ]
        }
      ]
    },
    {
      "cell_type": "markdown",
      "source": [
        "  7.  Write a code to append the number 10 to the list [1, 2, 3, 4]"
      ],
      "metadata": {
        "id": "ze6lRISD3dZO"
      }
    },
    {
      "cell_type": "code",
      "source": [
        "# Define the list\n",
        "my_list = [1, 2, 3, 4]\n",
        "\n",
        "# Append the number 10 to the list\n",
        "my_list.append(10)\n",
        "\n",
        "# Print the updated list\n",
        "print(my_list)\n"
      ],
      "metadata": {
        "colab": {
          "base_uri": "https://localhost:8080/"
        },
        "id": "mq1HcRP23hnX",
        "outputId": "9f8a10e1-b793-4ded-84a1-c9325ea6c68c"
      },
      "execution_count": 9,
      "outputs": [
        {
          "output_type": "stream",
          "name": "stdout",
          "text": [
            "[1, 2, 3, 4, 10]\n"
          ]
        }
      ]
    },
    {
      "cell_type": "markdown",
      "source": [],
      "metadata": {
        "id": "L4Rpu8FPI2T_"
      }
    },
    {
      "cell_type": "code",
      "source": [],
      "metadata": {
        "id": "cWxNsGHL352V"
      },
      "execution_count": null,
      "outputs": []
    },
    {
      "cell_type": "markdown",
      "source": [
        "  8. Write a code to remove the number 3 from the list [1, 2, 3, 4, 5]"
      ],
      "metadata": {
        "id": "M5E8UyFK3rBj"
      }
    },
    {
      "cell_type": "code",
      "source": [
        "# Define the list\n",
        "my_list = [1, 2, 3, 4, 5]\n",
        "\n",
        "# Remove the number 3 from the list\n",
        "my_list.remove(3)\n",
        "\n",
        "# Print the updated list\n",
        "print(my_list)\n"
      ],
      "metadata": {
        "colab": {
          "base_uri": "https://localhost:8080/"
        },
        "id": "ZqUs5VBk374B",
        "outputId": "4ca8d079-654f-46a4-cfff-bdef9b7e8e94"
      },
      "execution_count": 10,
      "outputs": [
        {
          "output_type": "stream",
          "name": "stdout",
          "text": [
            "[1, 2, 4, 5]\n"
          ]
        }
      ]
    },
    {
      "cell_type": "markdown",
      "source": [
        "  9. Write a code to access the second element in the list ['a', 'b', 'c', 'd']"
      ],
      "metadata": {
        "id": "KBQjw9fJ4BRa"
      }
    },
    {
      "cell_type": "code",
      "source": [
        "# Define the list\n",
        "my_list = ['a', 'b', 'c', 'd']\n",
        "\n",
        "# Access the second element (index 1)\n",
        "second_element = my_list[1]\n",
        "\n",
        "# Print the second element\n",
        "print(second_element)\n"
      ],
      "metadata": {
        "colab": {
          "base_uri": "https://localhost:8080/"
        },
        "id": "wnv2imar3811",
        "outputId": "b5432a60-d564-4aa8-fb81-72246ab16cf2"
      },
      "execution_count": 11,
      "outputs": [
        {
          "output_type": "stream",
          "name": "stdout",
          "text": [
            "b\n"
          ]
        }
      ]
    },
    {
      "cell_type": "markdown",
      "source": [
        "  10. Write a code to reverse the list [10, 20, 30, 40, 50].\n"
      ],
      "metadata": {
        "id": "RqB8k9HT4XmU"
      }
    },
    {
      "cell_type": "code",
      "source": [
        "# Define the list\n",
        "my_list = [10, 20, 30, 40, 50]\n",
        "\n",
        "# Reverse the list using the reverse() method\n",
        "my_list.reverse()\n",
        "\n",
        "# Print the reversed list\n",
        "print(my_list)\n"
      ],
      "metadata": {
        "colab": {
          "base_uri": "https://localhost:8080/"
        },
        "id": "9kmXtQK04N-Y",
        "outputId": "72d04315-5af6-4eba-87f6-62196b73dff9"
      },
      "execution_count": 12,
      "outputs": [
        {
          "output_type": "stream",
          "name": "stdout",
          "text": [
            "[50, 40, 30, 20, 10]\n"
          ]
        }
      ]
    },
    {
      "cell_type": "markdown",
      "source": [
        "  11. Write a code to create a tuple with the elements 10, 20, 30 and print it.\n"
      ],
      "metadata": {
        "id": "eUXtyrgP4t6K"
      }
    },
    {
      "cell_type": "code",
      "source": [
        "# Create a tuple with elements 10, 20, and 30\n",
        "my_tuple = (10, 20, 30)\n",
        "\n",
        "# Print the tuple\n",
        "print(my_tuple)\n"
      ],
      "metadata": {
        "colab": {
          "base_uri": "https://localhost:8080/"
        },
        "id": "5w9FnVWW4pSA",
        "outputId": "263f9006-44a5-4f9e-b5e8-1c00084b75d8"
      },
      "execution_count": 13,
      "outputs": [
        {
          "output_type": "stream",
          "name": "stdout",
          "text": [
            "(10, 20, 30)\n"
          ]
        }
      ]
    },
    {
      "cell_type": "markdown",
      "source": [
        "  12. Write a code to access the first element of the tuple ('apple', 'banana', 'cherry')."
      ],
      "metadata": {
        "id": "ANQNfKzv5HLi"
      }
    },
    {
      "cell_type": "code",
      "source": [
        "# Define the tuple\n",
        "my_tuple = ('apple', 'banana', 'cherry')\n",
        "\n",
        "# Access the first element (index 0)\n",
        "first_element = my_tuple[0]\n",
        "\n",
        "# Print the first element\n",
        "print(first_element)\n"
      ],
      "metadata": {
        "colab": {
          "base_uri": "https://localhost:8080/"
        },
        "id": "ktxS4YoU5AnY",
        "outputId": "1ffe934c-82a5-4921-bbc0-137be760750f"
      },
      "execution_count": 14,
      "outputs": [
        {
          "output_type": "stream",
          "name": "stdout",
          "text": [
            "apple\n"
          ]
        }
      ]
    },
    {
      "cell_type": "markdown",
      "source": [
        "13. Write a code to count how many times the number 2 appears in the tuple (1, 2, 3, 2, 4, 2)."
      ],
      "metadata": {
        "id": "WI5htvuN5doD"
      }
    },
    {
      "cell_type": "code",
      "source": [
        "# Define the tuple\n",
        "my_tuple = (1, 2, 3, 2, 4, 2)\n",
        "\n",
        "# Count how many times the number 2 appears in the tuple\n",
        "count_of_two = my_tuple.count(2)\n",
        "\n",
        "# Print the count\n",
        "print(count_of_two)\n"
      ],
      "metadata": {
        "colab": {
          "base_uri": "https://localhost:8080/"
        },
        "id": "fHS_3sB65Xji",
        "outputId": "400ccb0c-ee67-430e-b8e0-af5e13092e90"
      },
      "execution_count": 15,
      "outputs": [
        {
          "output_type": "stream",
          "name": "stdout",
          "text": [
            "3\n"
          ]
        }
      ]
    },
    {
      "cell_type": "markdown",
      "source": [
        "14. Write a code to find the index of the element \"cat\" in the tuple ('dog', 'cat', 'rabbit')."
      ],
      "metadata": {
        "id": "SJfOhk135tmO"
      }
    },
    {
      "cell_type": "code",
      "source": [
        "# Define the tuple\n",
        "my_tuple = ('dog', 'cat', 'rabbit')\n",
        "\n",
        "# Find the index of the element \"cat\"\n",
        "index_of_cat = my_tuple.index('cat')\n",
        "\n",
        "# Print the index\n",
        "print(index_of_cat)\n"
      ],
      "metadata": {
        "colab": {
          "base_uri": "https://localhost:8080/"
        },
        "id": "pGhaw0Ec5nV2",
        "outputId": "28aab0b6-2424-40ae-eae8-97629d291b48"
      },
      "execution_count": 16,
      "outputs": [
        {
          "output_type": "stream",
          "name": "stdout",
          "text": [
            "1\n"
          ]
        }
      ]
    },
    {
      "cell_type": "markdown",
      "source": [
        "15. Write a code to check if the element \"banana\" is in the tuple ('apple', 'orange', 'banana')."
      ],
      "metadata": {
        "id": "Ib4x7Len58Ob"
      }
    },
    {
      "cell_type": "code",
      "source": [
        "# Define the tuple\n",
        "my_tuple = ('apple', 'orange', 'banana')\n",
        "\n",
        "# Check if the element \"banana\" is in the tuple\n",
        "is_banana_in_tuple = 'banana' in my_tuple\n",
        "\n",
        "# Print the result\n",
        "print(is_banana_in_tuple)\n"
      ],
      "metadata": {
        "colab": {
          "base_uri": "https://localhost:8080/"
        },
        "id": "vXNxCK-050Hp",
        "outputId": "df316e6b-ae42-4c2b-a6a9-987f70c73905"
      },
      "execution_count": 17,
      "outputs": [
        {
          "output_type": "stream",
          "name": "stdout",
          "text": [
            "True\n"
          ]
        }
      ]
    },
    {
      "cell_type": "markdown",
      "source": [
        "16. Write a code to create a set with the elements 1, 2, 3, 4, 5 and print it."
      ],
      "metadata": {
        "id": "9Lb57SL56FK7"
      }
    },
    {
      "cell_type": "code",
      "source": [
        "# Create a set with elements 1, 2, 3, 4, 5\n",
        "my_set = {1, 2, 3, 4, 5}\n",
        "\n",
        "# Print the set\n",
        "print(my_set)\n"
      ],
      "metadata": {
        "colab": {
          "base_uri": "https://localhost:8080/"
        },
        "id": "CSAkPorE6DPv",
        "outputId": "21939f8d-7f19-46a5-c54d-f6bf50e01e3e"
      },
      "execution_count": 18,
      "outputs": [
        {
          "output_type": "stream",
          "name": "stdout",
          "text": [
            "{1, 2, 3, 4, 5}\n"
          ]
        }
      ]
    },
    {
      "cell_type": "markdown",
      "source": [
        " 17. Write a code to add the element 6 to the set {1, 2, 3, 4}."
      ],
      "metadata": {
        "id": "kC_Gl4WH6ajp"
      }
    },
    {
      "cell_type": "code",
      "source": [
        "# Define the set\n",
        "my_set = {1, 2, 3, 4}\n",
        "\n",
        "# Add the element 6 to the set\n",
        "my_set.add(6)\n",
        "\n",
        "# Print the updated set\n",
        "print(my_set)\n"
      ],
      "metadata": {
        "colab": {
          "base_uri": "https://localhost:8080/"
        },
        "id": "1EiD4aDJ6U6Z",
        "outputId": "3ff6adc3-2785-455d-821f-d9b6752baf01"
      },
      "execution_count": 19,
      "outputs": [
        {
          "output_type": "stream",
          "name": "stdout",
          "text": [
            "{1, 2, 3, 4, 6}\n"
          ]
        }
      ]
    },
    {
      "cell_type": "markdown",
      "source": [
        "18. Write a code to create a tuple with the elements 10, 20, 30 and print it."
      ],
      "metadata": {
        "id": "dFiAy3_U7Et2"
      }
    },
    {
      "cell_type": "code",
      "source": [
        "# Create a tuple with elements 10, 20, and 30\n",
        "my_tuple = (10, 20, 30)\n",
        "\n",
        "# Print the tuple\n",
        "print(my_tuple)\n"
      ],
      "metadata": {
        "colab": {
          "base_uri": "https://localhost:8080/"
        },
        "id": "B42M6zVs6jWb",
        "outputId": "bd43206c-7fe4-4289-81a4-b2701e8d26a1"
      },
      "execution_count": 20,
      "outputs": [
        {
          "output_type": "stream",
          "name": "stdout",
          "text": [
            "(10, 20, 30)\n"
          ]
        }
      ]
    },
    {
      "cell_type": "markdown",
      "source": [
        "19. Write a code to access the first element of the tuple ('apple', 'banana', 'cherry')."
      ],
      "metadata": {
        "id": "H1FCmocW7Sv4"
      }
    },
    {
      "cell_type": "code",
      "source": [
        "# Define the tuple\n",
        "my_tuple = ('apple', 'banana', 'cherry')\n",
        "\n",
        "# Access the first element (index 0)\n",
        "first_element = my_tuple[0]\n",
        "\n",
        "# Print the first element\n",
        "print(first_element)\n"
      ],
      "metadata": {
        "colab": {
          "base_uri": "https://localhost:8080/"
        },
        "id": "L7hicLEw7QiJ",
        "outputId": "f1bb7f8c-4409-43e5-b53a-af7a37ca5a78"
      },
      "execution_count": 21,
      "outputs": [
        {
          "output_type": "stream",
          "name": "stdout",
          "text": [
            "apple\n"
          ]
        }
      ]
    },
    {
      "cell_type": "markdown",
      "source": [
        "20. Write a code to count how many times the number 2 appears in the tuple (1, 2, 3, 2, 4, 2)."
      ],
      "metadata": {
        "id": "91Kf9b9C7hN4"
      }
    },
    {
      "cell_type": "code",
      "source": [
        "# Define the tuple\n",
        "my_tuple = (1, 2, 3, 2, 4, 2)\n",
        "\n",
        "# Count how many times the number 2 appears in the tuple\n",
        "count_of_two = my_tuple.count(2)\n",
        "\n",
        "# Print the count\n",
        "print(count_of_two)\n"
      ],
      "metadata": {
        "colab": {
          "base_uri": "https://localhost:8080/"
        },
        "id": "wfYC9wdR7cC6",
        "outputId": "07eefaf5-3711-48dc-8c9b-4684701bd1f0"
      },
      "execution_count": 22,
      "outputs": [
        {
          "output_type": "stream",
          "name": "stdout",
          "text": [
            "3\n"
          ]
        }
      ]
    },
    {
      "cell_type": "markdown",
      "source": [
        "21. Write a code to find the index of the element \"cat\" in the tuple ('dog', 'cat', 'rabbit')."
      ],
      "metadata": {
        "id": "Eg9vqoMY7qvQ"
      }
    },
    {
      "cell_type": "code",
      "source": [
        "# Define the tuple\n",
        "my_tuple = ('dog', 'cat', 'rabbit')\n",
        "\n",
        "# Find the index of the element \"cat\"\n",
        "index_of_cat = my_tuple.index('cat')\n",
        "\n",
        "# Print the index\n",
        "print(index_of_cat)\n"
      ],
      "metadata": {
        "colab": {
          "base_uri": "https://localhost:8080/"
        },
        "id": "MCqp4IDz7lLF",
        "outputId": "e210d01b-e460-418f-faaa-1c6daf8caf58"
      },
      "execution_count": 23,
      "outputs": [
        {
          "output_type": "stream",
          "name": "stdout",
          "text": [
            "1\n"
          ]
        }
      ]
    },
    {
      "cell_type": "markdown",
      "source": [
        "22. Write a code to check if the element \"banana\" is in the tuple ('apple', 'orange', 'banana')."
      ],
      "metadata": {
        "id": "oPszNUjv70hN"
      }
    },
    {
      "cell_type": "code",
      "source": [
        "# Define the tuple\n",
        "my_tuple = ('apple', 'orange', 'banana')\n",
        "\n",
        "# Check if the element \"banana\" is in the tuple\n",
        "is_banana_in_tuple = 'banana' in my_tuple\n",
        "\n",
        "# Print the result\n",
        "print(is_banana_in_tuple)\n"
      ],
      "metadata": {
        "colab": {
          "base_uri": "https://localhost:8080/"
        },
        "id": "_s2zgqff7wCf",
        "outputId": "811d52f3-8c21-470f-e70b-49da28800c75"
      },
      "execution_count": 24,
      "outputs": [
        {
          "output_type": "stream",
          "name": "stdout",
          "text": [
            "True\n"
          ]
        }
      ]
    },
    {
      "cell_type": "markdown",
      "source": [
        "23. Write a code to create a set with the elements 1, 2, 3, 4, 5 and print it."
      ],
      "metadata": {
        "id": "_4fM7S88770i"
      }
    },
    {
      "cell_type": "code",
      "source": [
        "# Create a set with elements 1, 2, 3, 4, 5\n",
        "my_set = {1, 2, 3, 4, 5}\n",
        "\n",
        "# Print the set\n",
        "print(my_set)\n"
      ],
      "metadata": {
        "colab": {
          "base_uri": "https://localhost:8080/"
        },
        "id": "4KclNw5e74MC",
        "outputId": "c432b435-bb91-4028-ac40-882e5858978e"
      },
      "execution_count": 25,
      "outputs": [
        {
          "output_type": "stream",
          "name": "stdout",
          "text": [
            "{1, 2, 3, 4, 5}\n"
          ]
        }
      ]
    },
    {
      "cell_type": "markdown",
      "source": [
        "24. Write a code to add the element 6 to the set {1, 2, 3, 4}."
      ],
      "metadata": {
        "id": "ZCmUPP-T8DkL"
      }
    },
    {
      "cell_type": "code",
      "source": [
        "# Define the set\n",
        "my_set = {1, 2, 3, 4}\n",
        "\n",
        "# Add the element 6 to the set\n",
        "my_set.add(6)\n",
        "\n",
        "# Print the updated set\n",
        "print(my_set)\n"
      ],
      "metadata": {
        "colab": {
          "base_uri": "https://localhost:8080/"
        },
        "id": "uVGJrO7s8Aqo",
        "outputId": "04e147dd-865e-408c-fc6e-1e7cdc58af74"
      },
      "execution_count": 26,
      "outputs": [
        {
          "output_type": "stream",
          "name": "stdout",
          "text": [
            "{1, 2, 3, 4, 6}\n"
          ]
        }
      ]
    },
    {
      "cell_type": "code",
      "source": [],
      "metadata": {
        "id": "WV0ds9R18ITE"
      },
      "execution_count": null,
      "outputs": []
    }
  ]
}